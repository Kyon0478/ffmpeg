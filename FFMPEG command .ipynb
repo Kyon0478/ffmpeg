{
 "cells": [
  {
   "cell_type": "markdown",
   "metadata": {},
   "source": [
    "# FFMPEG website\n",
    "https://ffmpeg.org/\n",
    "\n",
    "Install guidline \n",
    "https://www.jianshu.com/p/2b609afb9800"
   ]
  },
  {
   "cell_type": "markdown",
   "metadata": {},
   "source": [
    "# 1.General Command on video processing"
   ]
  },
  {
   "cell_type": "markdown",
   "metadata": {},
   "source": [
    "NOTE: (input), (output) indicate the file name with format. like video1.mp4"
   ]
  },
  {
   "attachments": {},
   "cell_type": "markdown",
   "metadata": {},
   "source": [
    "## 1.1 frame rate set\n",
    "\n",
    "ffmpeg -i (input) -r n (output) \n",
    "    \n",
    " ===> n = frame rate "
   ]
  },
  {
   "attachments": {},
   "cell_type": "markdown",
   "metadata": {},
   "source": [
    "## 1.2 Video rotation \n",
    " ffmpeg -i (input) -vf hflip (output)      ==> 水平翻转  \n",
    " ffmpeg -i (input) -vf vflip (output)      ==> 上下翻转  \n",
    " \n",
    " \n",
    " ffmpeg -i (input) -vf transpose=1 (output)    ==> 旋转90°"
   ]
  },
  {
   "attachments": {},
   "cell_type": "markdown",
   "metadata": {},
   "source": [
    "## 1.3 GOP setting for H.264\n",
    "\n",
    "ffmpeg -i (input) -c:v libx264 -intra (output)     ==> I frame only\n"
   ]
  },
  {
   "attachments": {},
   "cell_type": "markdown",
   "metadata": {},
   "source": [
    "## 1.4 set bitrate \n",
    "ffmpeg -i (input)  -c:v libx264 -x264-params \"nal-hrd=cbr:force-cfr=1\" -b:v 1M -minrate 1M -maxrate 1M -bufsize 2M (output)       ==> bufsize 缓存"
   ]
  },
  {
   "attachments": {},
   "cell_type": "markdown",
   "metadata": {},
   "source": [
    "## 1.5 Set resolution \n",
    "\n",
    "ffmpeg -i (input) -filter:v  scale=1280：720 -c:a  copy  (output)   ==> 设置指定分辨率  \n",
    "ffmpeg -i (input) -s 1280* 720  -c:a copy  (output)                     ==> 设置指定分辨率"
   ]
  },
  {
   "cell_type": "markdown",
   "metadata": {},
   "source": [
    "# 2 Video advanced process"
   ]
  },
  {
   "attachments": {},
   "cell_type": "markdown",
   "metadata": {},
   "source": [
    "## 2.1 Crop video\n",
    "\n",
    "ffmpeg -i (input) -filter:v \"crop=in_w-2 * 200:in_h-2 * 200\" -c:a copy (output)  \n",
    "\n",
    "==>  200 means pixels  2 means in both left/right, top/bottom \n",
    "\n",
    "https://ffmpeg.org/ffmpeg-filters.html#crop\n"
   ]
  },
  {
   "cell_type": "markdown",
   "metadata": {},
   "source": [
    "## 2.2 merge video\n",
    "\n",
    "further details  \n",
    "https://stackoverflow.com/questions/11552565/vertically-or-horizontally-stack-mosaic-several-videos-using-ffmpeg\n"
   ]
  },
  {
   "attachments": {},
   "cell_type": "markdown",
   "metadata": {},
   "source": [
    "![jupyter](https://i.stack.imgur.com/B214q.png)\n"
   ]
  },
  {
   "cell_type": "markdown",
   "metadata": {},
   "source": [
    "ffmpeg -i input0 -i input1 -i input2 -i input3 -filter_complex \"[0:v][1:v][2:v][3:v]xstack=inputs=4:layout=0_0|w0_0|0_h0|w0_h0[v]\" -map \"[v]\" output"
   ]
  },
  {
   "cell_type": "markdown",
   "metadata": {},
   "source": [
    "# 3 Verification"
   ]
  },
  {
   "attachments": {},
   "cell_type": "markdown",
   "metadata": {},
   "source": [
    "## 3.1 GOP type check\n",
    "\n",
    "  ffprobe -v error-show_frames (output) | findstr“pict_type”  == >验证GOP type"
   ]
  }
 ],
 "metadata": {
  "kernelspec": {
   "display_name": "Python 3",
   "language": "python",
   "name": "python3"
  },
  "language_info": {
   "codemirror_mode": {
    "name": "ipython",
    "version": 3
   },
   "file_extension": ".py",
   "mimetype": "text/x-python",
   "name": "python",
   "nbconvert_exporter": "python",
   "pygments_lexer": "ipython3",
   "version": "3.7.2"
  }
 },
 "nbformat": 4,
 "nbformat_minor": 4
}
